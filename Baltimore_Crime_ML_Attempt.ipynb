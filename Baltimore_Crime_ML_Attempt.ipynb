{
  "nbformat": 4,
  "nbformat_minor": 0,
  "metadata": {
    "colab": {
      "name": "Baltimore Crime ML.ipynb",
      "provenance": [],
      "collapsed_sections": [],
      "authorship_tag": "ABX9TyOD7Fs/Be4ZZR6UeInTj+HK",
      "include_colab_link": true
    },
    "kernelspec": {
      "name": "python3",
      "display_name": "Python 3"
    },
    "language_info": {
      "name": "python"
    }
  },
  "cells": [
    {
      "cell_type": "markdown",
      "metadata": {
        "id": "view-in-github",
        "colab_type": "text"
      },
      "source": [
        "<a href=\"https://colab.research.google.com/github/RahmanMonty/Data606Capstone/blob/main/Baltimore_Crime_ML_Attempt.ipynb\" target=\"_parent\"><img src=\"https://colab.research.google.com/assets/colab-badge.svg\" alt=\"Open In Colab\"/></a>"
      ]
    },
    {
      "cell_type": "code",
      "metadata": {
        "id": "VbSjFE67d6SN"
      },
      "source": [
        "import pandas as pd\n",
        "from matplotlib import pyplot as plt\n",
        "from datetime import datetime as dt\n",
        "import seaborn as sns\n",
        "import random\n",
        "from pandas.io.json import json_normalize\n",
        "from sklearn.cluster import KMeans\n",
        "import pandas as pd\n",
        "from sklearn.preprocessing import MinMaxScaler\n",
        "from matplotlib import pyplot as plt\n",
        "%matplotlib inline\n",
        "import numpy as np\n",
        "from sklearn.cluster import KMeans\n",
        "import pandas as pd\n",
        "from sklearn.preprocessing import MinMaxScaler\n",
        "from matplotlib import pyplot as plt\n",
        "%matplotlib inline\n",
        "from sklearn import preprocessing"
      ],
      "execution_count": null,
      "outputs": []
    },
    {
      "cell_type": "code",
      "metadata": {
        "id": "gWc9F5YseKBY"
      },
      "source": [
        "#use for offline\n",
        "\n",
        "import pandas as pd\n",
        "df = pd.read_excel('/content/Part1_Crime_data.xlsx')\n"
      ],
      "execution_count": null,
      "outputs": []
    },
    {
      "cell_type": "code",
      "metadata": {
        "colab": {
          "base_uri": "https://localhost:8080/",
          "height": 181
        },
        "id": "s6MXfse8gbDn",
        "outputId": "ba9a203f-fc58-4b19-b394-16cf4d722376"
      },
      "source": [
        "df[\"Hour\"] = pd. DatetimeIndex(df['CrimeDateTime']).hour\n",
        "df.head()"
      ],
      "execution_count": null,
      "outputs": [
        {
          "output_type": "error",
          "ename": "NameError",
          "evalue": "ignored",
          "traceback": [
            "\u001b[0;31m---------------------------------------------------------------------------\u001b[0m",
            "\u001b[0;31mNameError\u001b[0m                                 Traceback (most recent call last)",
            "\u001b[0;32m<ipython-input-4-97a98ddeb1f1>\u001b[0m in \u001b[0;36m<module>\u001b[0;34m()\u001b[0m\n\u001b[0;32m----> 1\u001b[0;31m \u001b[0mdf\u001b[0m\u001b[0;34m[\u001b[0m\u001b[0;34m\"Hour\"\u001b[0m\u001b[0;34m]\u001b[0m \u001b[0;34m=\u001b[0m \u001b[0mpd\u001b[0m\u001b[0;34m.\u001b[0m \u001b[0mDatetimeIndex\u001b[0m\u001b[0;34m(\u001b[0m\u001b[0mdf\u001b[0m\u001b[0;34m[\u001b[0m\u001b[0;34m'CrimeDateTime'\u001b[0m\u001b[0;34m]\u001b[0m\u001b[0;34m)\u001b[0m\u001b[0;34m.\u001b[0m\u001b[0mhour\u001b[0m\u001b[0;34m\u001b[0m\u001b[0;34m\u001b[0m\u001b[0m\n\u001b[0m\u001b[1;32m      2\u001b[0m \u001b[0mdf\u001b[0m\u001b[0;34m.\u001b[0m\u001b[0mhead\u001b[0m\u001b[0;34m(\u001b[0m\u001b[0;34m)\u001b[0m\u001b[0;34m\u001b[0m\u001b[0;34m\u001b[0m\u001b[0m\n",
            "\u001b[0;31mNameError\u001b[0m: name 'df' is not defined"
          ]
        }
      ]
    },
    {
      "cell_type": "code",
      "metadata": {
        "colab": {
          "base_uri": "https://localhost:8080/"
        },
        "id": "eoJId5VkeKFc",
        "outputId": "54cfbe75-b355-4fba-c38c-e4116d7454e3"
      },
      "source": [
        "# For our model let's drop redundant crime descriptions\n",
        "# For example Roberry - street, robbery -  commercial,\n",
        "# robbery - residence, robbery - carjacking can all be burglary\n",
        "\n",
        "df['Description'].value_counts()"
      ],
      "execution_count": null,
      "outputs": [
        {
          "output_type": "execute_result",
          "data": {
            "text/plain": [
              "LARCENY                 75447\n",
              "COMMON ASSAULT          58026\n",
              "BURGLARY                47268\n",
              "LARCENY FROM AUTO       43748\n",
              "AGG. ASSAULT            39021\n",
              "AUTO THEFT              29907\n",
              "ROBBERY - STREET        23219\n",
              "ROBBERY - COMMERCIAL     5974\n",
              "SHOOTING                 4515\n",
              "ROBBERY - RESIDENCE      3623\n",
              "ROBBERY - CARJACKING     3185\n",
              "RAPE                     2385\n",
              "HOMICIDE                 2164\n",
              "ARSON                    1428\n",
              "Name: Description, dtype: int64"
            ]
          },
          "metadata": {
            "tags": []
          },
          "execution_count": 11
        }
      ]
    },
    {
      "cell_type": "code",
      "metadata": {
        "colab": {
          "base_uri": "https://localhost:8080/",
          "height": 292
        },
        "id": "giKbnR3WeKHg",
        "outputId": "7080d8c7-c3ee-49ed-baad-8016efb4be12"
      },
      "source": [
        "df_model = df.drop([\"X\", \"Y\", \"RowID\", \"Total_Incidents\", \n",
        "                    \"Shape\", \"CrimeDateTime\", \"GeoLocation\",\n",
        "                    \"VRIName\", \"Location\", \"Shape\", \"Post\"], axis = 1)\n",
        "df_model.head()"
      ],
      "execution_count": null,
      "outputs": [
        {
          "output_type": "execute_result",
          "data": {
            "text/html": [
              "<div>\n",
              "<style scoped>\n",
              "    .dataframe tbody tr th:only-of-type {\n",
              "        vertical-align: middle;\n",
              "    }\n",
              "\n",
              "    .dataframe tbody tr th {\n",
              "        vertical-align: top;\n",
              "    }\n",
              "\n",
              "    .dataframe thead th {\n",
              "        text-align: right;\n",
              "    }\n",
              "</style>\n",
              "<table border=\"1\" class=\"dataframe\">\n",
              "  <thead>\n",
              "    <tr style=\"text-align: right;\">\n",
              "      <th></th>\n",
              "      <th>CrimeCode</th>\n",
              "      <th>Description</th>\n",
              "      <th>Inside_Outside</th>\n",
              "      <th>Weapon</th>\n",
              "      <th>District</th>\n",
              "      <th>Neighborhood</th>\n",
              "      <th>Latitude</th>\n",
              "      <th>Longitude</th>\n",
              "      <th>Premise</th>\n",
              "      <th>Hour</th>\n",
              "    </tr>\n",
              "  </thead>\n",
              "  <tbody>\n",
              "    <tr>\n",
              "      <th>0</th>\n",
              "      <td>6E</td>\n",
              "      <td>LARCENY</td>\n",
              "      <td>NaN</td>\n",
              "      <td>NaN</td>\n",
              "      <td>NORTHEAST</td>\n",
              "      <td>BELAIR-EDISON</td>\n",
              "      <td>39.3245</td>\n",
              "      <td>-76.5781</td>\n",
              "      <td>NaN</td>\n",
              "      <td>14</td>\n",
              "    </tr>\n",
              "    <tr>\n",
              "      <th>1</th>\n",
              "      <td>9S</td>\n",
              "      <td>SHOOTING</td>\n",
              "      <td>Outside</td>\n",
              "      <td>FIREARM</td>\n",
              "      <td>CENTRAL</td>\n",
              "      <td>DRUID HEIGHTS</td>\n",
              "      <td>39.3103</td>\n",
              "      <td>-76.6358</td>\n",
              "      <td>STREET</td>\n",
              "      <td>5</td>\n",
              "    </tr>\n",
              "    <tr>\n",
              "      <th>2</th>\n",
              "      <td>9S</td>\n",
              "      <td>SHOOTING</td>\n",
              "      <td>Outside</td>\n",
              "      <td>FIREARM</td>\n",
              "      <td>SOUTHERN</td>\n",
              "      <td>WESTPORT</td>\n",
              "      <td>39.2625</td>\n",
              "      <td>-76.6411</td>\n",
              "      <td>STREET</td>\n",
              "      <td>1</td>\n",
              "    </tr>\n",
              "    <tr>\n",
              "      <th>3</th>\n",
              "      <td>9S</td>\n",
              "      <td>SHOOTING</td>\n",
              "      <td>Outside</td>\n",
              "      <td>FIREARM</td>\n",
              "      <td>SOUTHERN</td>\n",
              "      <td>WESTPORT</td>\n",
              "      <td>39.2625</td>\n",
              "      <td>-76.6411</td>\n",
              "      <td>STREET</td>\n",
              "      <td>1</td>\n",
              "    </tr>\n",
              "    <tr>\n",
              "      <th>4</th>\n",
              "      <td>6E</td>\n",
              "      <td>LARCENY</td>\n",
              "      <td>I</td>\n",
              "      <td>NaN</td>\n",
              "      <td>SOUTHERN</td>\n",
              "      <td>INNER HARBOR</td>\n",
              "      <td>39.2764</td>\n",
              "      <td>-76.6046</td>\n",
              "      <td>PARKING LOT-INSIDE</td>\n",
              "      <td>14</td>\n",
              "    </tr>\n",
              "  </tbody>\n",
              "</table>\n",
              "</div>"
            ],
            "text/plain": [
              "  CrimeCode Description Inside_Outside  ... Longitude               Premise Hour\n",
              "0        6E     LARCENY            NaN  ...  -76.5781                   NaN   14\n",
              "1        9S    SHOOTING        Outside  ...  -76.6358                STREET    5\n",
              "2        9S    SHOOTING        Outside  ...  -76.6411                STREET    1\n",
              "3        9S    SHOOTING        Outside  ...  -76.6411                STREET    1\n",
              "4        6E     LARCENY              I  ...  -76.6046  PARKING LOT-INSIDE     14\n",
              "\n",
              "[5 rows x 10 columns]"
            ]
          },
          "metadata": {
            "tags": []
          },
          "execution_count": 22
        }
      ]
    },
    {
      "cell_type": "code",
      "metadata": {
        "colab": {
          "base_uri": "https://localhost:8080/",
          "height": 275
        },
        "id": "iPY3hvqPeKKR",
        "outputId": "3f4a9fb6-8c53-45ba-cdff-b9922202e850"
      },
      "source": [
        "df_model = df_model[df_model[\"CrimeCode\"].notna()]\n",
        "\n",
        "df_model = df_model[df_model[\"Description\"].notna()]\n",
        "df_model = df_model[df_model[\"Inside_Outside\"].notna()]\n",
        "df_model = df_model[df_model[\"Weapon\"].notna()]\n",
        "# df_model = df_model[df_model[\"Post\"].notna()]\n",
        "df_model = df_model[df_model[\"District\"].notna()]\n",
        "df_model = df_model[df_model[\"Neighborhood\"].notna()]\n",
        "df_model = df_model[df_model[\"Latitude\"].notna()]\n",
        "df_model = df_model[df_model[\"Longitude\"].notna()]\n",
        "df_model = df_model[df_model[\"Premise\"].notna()]\n",
        "\n",
        "\n",
        "df_model.head()"
      ],
      "execution_count": null,
      "outputs": [
        {
          "output_type": "execute_result",
          "data": {
            "text/html": [
              "<div>\n",
              "<style scoped>\n",
              "    .dataframe tbody tr th:only-of-type {\n",
              "        vertical-align: middle;\n",
              "    }\n",
              "\n",
              "    .dataframe tbody tr th {\n",
              "        vertical-align: top;\n",
              "    }\n",
              "\n",
              "    .dataframe thead th {\n",
              "        text-align: right;\n",
              "    }\n",
              "</style>\n",
              "<table border=\"1\" class=\"dataframe\">\n",
              "  <thead>\n",
              "    <tr style=\"text-align: right;\">\n",
              "      <th></th>\n",
              "      <th>CrimeCode</th>\n",
              "      <th>Description</th>\n",
              "      <th>Inside_Outside</th>\n",
              "      <th>Weapon</th>\n",
              "      <th>District</th>\n",
              "      <th>Neighborhood</th>\n",
              "      <th>Latitude</th>\n",
              "      <th>Longitude</th>\n",
              "      <th>Premise</th>\n",
              "      <th>Hour</th>\n",
              "    </tr>\n",
              "  </thead>\n",
              "  <tbody>\n",
              "    <tr>\n",
              "      <th>1</th>\n",
              "      <td>9S</td>\n",
              "      <td>SHOOTING</td>\n",
              "      <td>Outside</td>\n",
              "      <td>FIREARM</td>\n",
              "      <td>CENTRAL</td>\n",
              "      <td>DRUID HEIGHTS</td>\n",
              "      <td>39.3103</td>\n",
              "      <td>-76.6358</td>\n",
              "      <td>STREET</td>\n",
              "      <td>5</td>\n",
              "    </tr>\n",
              "    <tr>\n",
              "      <th>2</th>\n",
              "      <td>9S</td>\n",
              "      <td>SHOOTING</td>\n",
              "      <td>Outside</td>\n",
              "      <td>FIREARM</td>\n",
              "      <td>SOUTHERN</td>\n",
              "      <td>WESTPORT</td>\n",
              "      <td>39.2625</td>\n",
              "      <td>-76.6411</td>\n",
              "      <td>STREET</td>\n",
              "      <td>1</td>\n",
              "    </tr>\n",
              "    <tr>\n",
              "      <th>3</th>\n",
              "      <td>9S</td>\n",
              "      <td>SHOOTING</td>\n",
              "      <td>Outside</td>\n",
              "      <td>FIREARM</td>\n",
              "      <td>SOUTHERN</td>\n",
              "      <td>WESTPORT</td>\n",
              "      <td>39.2625</td>\n",
              "      <td>-76.6411</td>\n",
              "      <td>STREET</td>\n",
              "      <td>1</td>\n",
              "    </tr>\n",
              "    <tr>\n",
              "      <th>8</th>\n",
              "      <td>9S</td>\n",
              "      <td>SHOOTING</td>\n",
              "      <td>Outside</td>\n",
              "      <td>FIREARM</td>\n",
              "      <td>EASTERN</td>\n",
              "      <td>DUNBAR-BROADWAY</td>\n",
              "      <td>39.2953</td>\n",
              "      <td>-76.5913</td>\n",
              "      <td>STREET</td>\n",
              "      <td>22</td>\n",
              "    </tr>\n",
              "    <tr>\n",
              "      <th>9</th>\n",
              "      <td>1A</td>\n",
              "      <td>HOMICIDE</td>\n",
              "      <td>Outside</td>\n",
              "      <td>FIREARM</td>\n",
              "      <td>SOUTHERN</td>\n",
              "      <td>CARROLLTON RIDGE</td>\n",
              "      <td>39.2848</td>\n",
              "      <td>-76.6451</td>\n",
              "      <td>STREET</td>\n",
              "      <td>1</td>\n",
              "    </tr>\n",
              "  </tbody>\n",
              "</table>\n",
              "</div>"
            ],
            "text/plain": [
              "  CrimeCode Description Inside_Outside  ... Longitude Premise Hour\n",
              "1        9S    SHOOTING        Outside  ...  -76.6358  STREET    5\n",
              "2        9S    SHOOTING        Outside  ...  -76.6411  STREET    1\n",
              "3        9S    SHOOTING        Outside  ...  -76.6411  STREET    1\n",
              "8        9S    SHOOTING        Outside  ...  -76.5913  STREET   22\n",
              "9        1A    HOMICIDE        Outside  ...  -76.6451  STREET    1\n",
              "\n",
              "[5 rows x 10 columns]"
            ]
          },
          "metadata": {
            "tags": []
          },
          "execution_count": 23
        }
      ]
    },
    {
      "cell_type": "code",
      "metadata": {
        "colab": {
          "base_uri": "https://localhost:8080/",
          "height": 275
        },
        "id": "UvxqFz0vkqfG",
        "outputId": "f89d78e8-f699-410e-d929-3b90adea2522"
      },
      "source": [
        "df_model[\"Post\"].astype(object).astype(str)\n",
        "df_model.head()"
      ],
      "execution_count": null,
      "outputs": [
        {
          "output_type": "execute_result",
          "data": {
            "text/html": [
              "<div>\n",
              "<style scoped>\n",
              "    .dataframe tbody tr th:only-of-type {\n",
              "        vertical-align: middle;\n",
              "    }\n",
              "\n",
              "    .dataframe tbody tr th {\n",
              "        vertical-align: top;\n",
              "    }\n",
              "\n",
              "    .dataframe thead th {\n",
              "        text-align: right;\n",
              "    }\n",
              "</style>\n",
              "<table border=\"1\" class=\"dataframe\">\n",
              "  <thead>\n",
              "    <tr style=\"text-align: right;\">\n",
              "      <th></th>\n",
              "      <th>CrimeCode</th>\n",
              "      <th>Description</th>\n",
              "      <th>Inside_Outside</th>\n",
              "      <th>Weapon</th>\n",
              "      <th>Post</th>\n",
              "      <th>District</th>\n",
              "      <th>Neighborhood</th>\n",
              "      <th>Latitude</th>\n",
              "      <th>Longitude</th>\n",
              "      <th>Premise</th>\n",
              "      <th>Hour</th>\n",
              "    </tr>\n",
              "  </thead>\n",
              "  <tbody>\n",
              "    <tr>\n",
              "      <th>1</th>\n",
              "      <td>9S</td>\n",
              "      <td>SHOOTING</td>\n",
              "      <td>Outside</td>\n",
              "      <td>FIREARM</td>\n",
              "      <td>133</td>\n",
              "      <td>CENTRAL</td>\n",
              "      <td>DRUID HEIGHTS</td>\n",
              "      <td>39.3103</td>\n",
              "      <td>-76.6358</td>\n",
              "      <td>STREET</td>\n",
              "      <td>5</td>\n",
              "    </tr>\n",
              "    <tr>\n",
              "      <th>2</th>\n",
              "      <td>9S</td>\n",
              "      <td>SHOOTING</td>\n",
              "      <td>Outside</td>\n",
              "      <td>FIREARM</td>\n",
              "      <td>921</td>\n",
              "      <td>SOUTHERN</td>\n",
              "      <td>WESTPORT</td>\n",
              "      <td>39.2625</td>\n",
              "      <td>-76.6411</td>\n",
              "      <td>STREET</td>\n",
              "      <td>1</td>\n",
              "    </tr>\n",
              "    <tr>\n",
              "      <th>3</th>\n",
              "      <td>9S</td>\n",
              "      <td>SHOOTING</td>\n",
              "      <td>Outside</td>\n",
              "      <td>FIREARM</td>\n",
              "      <td>921</td>\n",
              "      <td>SOUTHERN</td>\n",
              "      <td>WESTPORT</td>\n",
              "      <td>39.2625</td>\n",
              "      <td>-76.6411</td>\n",
              "      <td>STREET</td>\n",
              "      <td>1</td>\n",
              "    </tr>\n",
              "    <tr>\n",
              "      <th>8</th>\n",
              "      <td>9S</td>\n",
              "      <td>SHOOTING</td>\n",
              "      <td>Outside</td>\n",
              "      <td>FIREARM</td>\n",
              "      <td>321</td>\n",
              "      <td>EASTERN</td>\n",
              "      <td>DUNBAR-BROADWAY</td>\n",
              "      <td>39.2953</td>\n",
              "      <td>-76.5913</td>\n",
              "      <td>STREET</td>\n",
              "      <td>22</td>\n",
              "    </tr>\n",
              "    <tr>\n",
              "      <th>9</th>\n",
              "      <td>1A</td>\n",
              "      <td>HOMICIDE</td>\n",
              "      <td>Outside</td>\n",
              "      <td>FIREARM</td>\n",
              "      <td>934</td>\n",
              "      <td>SOUTHERN</td>\n",
              "      <td>CARROLLTON RIDGE</td>\n",
              "      <td>39.2848</td>\n",
              "      <td>-76.6451</td>\n",
              "      <td>STREET</td>\n",
              "      <td>1</td>\n",
              "    </tr>\n",
              "  </tbody>\n",
              "</table>\n",
              "</div>"
            ],
            "text/plain": [
              "  CrimeCode Description Inside_Outside  ... Longitude Premise Hour\n",
              "1        9S    SHOOTING        Outside  ...  -76.6358  STREET    5\n",
              "2        9S    SHOOTING        Outside  ...  -76.6411  STREET    1\n",
              "3        9S    SHOOTING        Outside  ...  -76.6411  STREET    1\n",
              "8        9S    SHOOTING        Outside  ...  -76.5913  STREET   22\n",
              "9        1A    HOMICIDE        Outside  ...  -76.6451  STREET    1\n",
              "\n",
              "[5 rows x 11 columns]"
            ]
          },
          "metadata": {
            "tags": []
          },
          "execution_count": 20
        }
      ]
    },
    {
      "cell_type": "code",
      "metadata": {
        "colab": {
          "base_uri": "https://localhost:8080/",
          "height": 224
        },
        "id": "gT4ebwc7eKOp",
        "outputId": "b0b480d9-2c00-4fa5-c05a-4b5a9669cbef"
      },
      "source": [
        "#Changing non numeric values into label encoded numeric values\n",
        "\n",
        "label_encoder = preprocessing.LabelEncoder()\n",
        "\n",
        "df_model[\"CrimeCode\"] = label_encoder.fit_transform(df_model[\"CrimeCode\"])\n",
        "# df_model[\"Post\"] = label_encoder.fit_transform(df_model[\"Post\"])\n",
        "df_model[\"Description\"] = label_encoder.fit_transform(df_model[\"Description\"])\n",
        "df_model[\"Inside_Outside\"] = label_encoder.fit_transform(df_model[\"Inside_Outside\"])\n",
        "df_model[\"Weapon\"] = label_encoder.fit_transform(df_model[\"Weapon\"])\n",
        "df_model[\"District\"] = label_encoder.fit_transform(df_model[\"District\"])\n",
        "df_model[\"Neighborhood\"] = label_encoder.fit_transform(df_model[\"Neighborhood\"])\n",
        "df_model[\"Premise\"] = label_encoder.fit_transform(df_model[\"Premise\"])\n",
        "df_model.head(5)"
      ],
      "execution_count": null,
      "outputs": [
        {
          "output_type": "execute_result",
          "data": {
            "text/html": [
              "<div>\n",
              "<style scoped>\n",
              "    .dataframe tbody tr th:only-of-type {\n",
              "        vertical-align: middle;\n",
              "    }\n",
              "\n",
              "    .dataframe tbody tr th {\n",
              "        vertical-align: top;\n",
              "    }\n",
              "\n",
              "    .dataframe thead th {\n",
              "        text-align: right;\n",
              "    }\n",
              "</style>\n",
              "<table border=\"1\" class=\"dataframe\">\n",
              "  <thead>\n",
              "    <tr style=\"text-align: right;\">\n",
              "      <th></th>\n",
              "      <th>CrimeCode</th>\n",
              "      <th>Description</th>\n",
              "      <th>Inside_Outside</th>\n",
              "      <th>Weapon</th>\n",
              "      <th>District</th>\n",
              "      <th>Neighborhood</th>\n",
              "      <th>Latitude</th>\n",
              "      <th>Longitude</th>\n",
              "      <th>Premise</th>\n",
              "      <th>Hour</th>\n",
              "    </tr>\n",
              "  </thead>\n",
              "  <tbody>\n",
              "    <tr>\n",
              "      <th>1</th>\n",
              "      <td>49</td>\n",
              "      <td>8</td>\n",
              "      <td>3</td>\n",
              "      <td>1</td>\n",
              "      <td>0</td>\n",
              "      <td>63</td>\n",
              "      <td>39.3103</td>\n",
              "      <td>-76.6358</td>\n",
              "      <td>104</td>\n",
              "      <td>5</td>\n",
              "    </tr>\n",
              "    <tr>\n",
              "      <th>2</th>\n",
              "      <td>49</td>\n",
              "      <td>8</td>\n",
              "      <td>3</td>\n",
              "      <td>1</td>\n",
              "      <td>6</td>\n",
              "      <td>261</td>\n",
              "      <td>39.2625</td>\n",
              "      <td>-76.6411</td>\n",
              "      <td>104</td>\n",
              "      <td>1</td>\n",
              "    </tr>\n",
              "    <tr>\n",
              "      <th>3</th>\n",
              "      <td>49</td>\n",
              "      <td>8</td>\n",
              "      <td>3</td>\n",
              "      <td>1</td>\n",
              "      <td>6</td>\n",
              "      <td>261</td>\n",
              "      <td>39.2625</td>\n",
              "      <td>-76.6411</td>\n",
              "      <td>104</td>\n",
              "      <td>1</td>\n",
              "    </tr>\n",
              "    <tr>\n",
              "      <th>8</th>\n",
              "      <td>49</td>\n",
              "      <td>8</td>\n",
              "      <td>3</td>\n",
              "      <td>1</td>\n",
              "      <td>1</td>\n",
              "      <td>65</td>\n",
              "      <td>39.2953</td>\n",
              "      <td>-76.5913</td>\n",
              "      <td>104</td>\n",
              "      <td>22</td>\n",
              "    </tr>\n",
              "    <tr>\n",
              "      <th>9</th>\n",
              "      <td>0</td>\n",
              "      <td>2</td>\n",
              "      <td>3</td>\n",
              "      <td>1</td>\n",
              "      <td>6</td>\n",
              "      <td>36</td>\n",
              "      <td>39.2848</td>\n",
              "      <td>-76.6451</td>\n",
              "      <td>104</td>\n",
              "      <td>1</td>\n",
              "    </tr>\n",
              "  </tbody>\n",
              "</table>\n",
              "</div>"
            ],
            "text/plain": [
              "   CrimeCode  Description  Inside_Outside  ...  Longitude  Premise  Hour\n",
              "1         49            8               3  ...   -76.6358      104     5\n",
              "2         49            8               3  ...   -76.6411      104     1\n",
              "3         49            8               3  ...   -76.6411      104     1\n",
              "8         49            8               3  ...   -76.5913      104    22\n",
              "9          0            2               3  ...   -76.6451      104     1\n",
              "\n",
              "[5 rows x 10 columns]"
            ]
          },
          "metadata": {
            "tags": []
          },
          "execution_count": 24
        }
      ]
    },
    {
      "cell_type": "code",
      "metadata": {
        "colab": {
          "base_uri": "https://localhost:8080/"
        },
        "id": "LA7p38-EeKRE",
        "outputId": "a65b8d4c-e299-4655-f9d5-3b39a5cc2715"
      },
      "source": [
        "labels = np.array(df_model['CrimeCode'])\n",
        "features = df_model.drop('CrimeCode', axis = 1)\n",
        "feature_list = list(features.columns)\n",
        "features = np.array(features)\n",
        "print(labels)\n",
        "print(feature_list)"
      ],
      "execution_count": null,
      "outputs": [
        {
          "output_type": "stream",
          "text": [
            "[49 49 49 ...  9 31  5]\n",
            "['Description', 'Inside_Outside', 'Weapon', 'District', 'Neighborhood', 'Latitude', 'Longitude', 'Premise', 'Hour']\n"
          ],
          "name": "stdout"
        }
      ]
    },
    {
      "cell_type": "code",
      "metadata": {
        "id": "-PszMwEreKTa"
      },
      "source": [
        "from sklearn.model_selection import train_test_split"
      ],
      "execution_count": null,
      "outputs": []
    },
    {
      "cell_type": "code",
      "metadata": {
        "id": "Tmzc3j4QeKVb"
      },
      "source": [
        "train_features, test_features, train_labels, test_labels = train_test_split(features, labels, test_size = 0.25, random_state = 42)"
      ],
      "execution_count": null,
      "outputs": []
    },
    {
      "cell_type": "code",
      "metadata": {
        "id": "50RmNS-0eKXv"
      },
      "source": [
        "print('Training Features Shape:', train_features.shape)\n",
        "print('Training Labels Shape:', train_labels.shape)\n",
        "print('Testing Features Shape:', test_features.shape)\n",
        "print('Testing Labels Shape:', test_labels.shape)"
      ],
      "execution_count": null,
      "outputs": []
    },
    {
      "cell_type": "code",
      "metadata": {
        "id": "cCmK9Y--jb2M"
      },
      "source": [
        "# i = df_model[((df_model.CrimeCode == 'SD5'))].index\n",
        "# df_model.drop(i)"
      ],
      "execution_count": null,
      "outputs": []
    },
    {
      "cell_type": "code",
      "metadata": {
        "colab": {
          "base_uri": "https://localhost:8080/",
          "height": 224
        },
        "id": "MG2O4oHlHcTr",
        "outputId": "93f4b89c-d417-436c-b687-c7de25f672ee"
      },
      "source": [
        "df_model.head()"
      ],
      "execution_count": null,
      "outputs": [
        {
          "output_type": "execute_result",
          "data": {
            "text/html": [
              "<div>\n",
              "<style scoped>\n",
              "    .dataframe tbody tr th:only-of-type {\n",
              "        vertical-align: middle;\n",
              "    }\n",
              "\n",
              "    .dataframe tbody tr th {\n",
              "        vertical-align: top;\n",
              "    }\n",
              "\n",
              "    .dataframe thead th {\n",
              "        text-align: right;\n",
              "    }\n",
              "</style>\n",
              "<table border=\"1\" class=\"dataframe\">\n",
              "  <thead>\n",
              "    <tr style=\"text-align: right;\">\n",
              "      <th></th>\n",
              "      <th>CrimeCode</th>\n",
              "      <th>Description</th>\n",
              "      <th>Inside_Outside</th>\n",
              "      <th>Weapon</th>\n",
              "      <th>District</th>\n",
              "      <th>Neighborhood</th>\n",
              "      <th>Latitude</th>\n",
              "      <th>Longitude</th>\n",
              "      <th>Premise</th>\n",
              "      <th>Hour</th>\n",
              "    </tr>\n",
              "  </thead>\n",
              "  <tbody>\n",
              "    <tr>\n",
              "      <th>1</th>\n",
              "      <td>49</td>\n",
              "      <td>8</td>\n",
              "      <td>3</td>\n",
              "      <td>1</td>\n",
              "      <td>0</td>\n",
              "      <td>63</td>\n",
              "      <td>39.3103</td>\n",
              "      <td>-76.6358</td>\n",
              "      <td>104</td>\n",
              "      <td>5</td>\n",
              "    </tr>\n",
              "    <tr>\n",
              "      <th>2</th>\n",
              "      <td>49</td>\n",
              "      <td>8</td>\n",
              "      <td>3</td>\n",
              "      <td>1</td>\n",
              "      <td>6</td>\n",
              "      <td>261</td>\n",
              "      <td>39.2625</td>\n",
              "      <td>-76.6411</td>\n",
              "      <td>104</td>\n",
              "      <td>1</td>\n",
              "    </tr>\n",
              "    <tr>\n",
              "      <th>3</th>\n",
              "      <td>49</td>\n",
              "      <td>8</td>\n",
              "      <td>3</td>\n",
              "      <td>1</td>\n",
              "      <td>6</td>\n",
              "      <td>261</td>\n",
              "      <td>39.2625</td>\n",
              "      <td>-76.6411</td>\n",
              "      <td>104</td>\n",
              "      <td>1</td>\n",
              "    </tr>\n",
              "    <tr>\n",
              "      <th>8</th>\n",
              "      <td>49</td>\n",
              "      <td>8</td>\n",
              "      <td>3</td>\n",
              "      <td>1</td>\n",
              "      <td>1</td>\n",
              "      <td>65</td>\n",
              "      <td>39.2953</td>\n",
              "      <td>-76.5913</td>\n",
              "      <td>104</td>\n",
              "      <td>22</td>\n",
              "    </tr>\n",
              "    <tr>\n",
              "      <th>9</th>\n",
              "      <td>0</td>\n",
              "      <td>2</td>\n",
              "      <td>3</td>\n",
              "      <td>1</td>\n",
              "      <td>6</td>\n",
              "      <td>36</td>\n",
              "      <td>39.2848</td>\n",
              "      <td>-76.6451</td>\n",
              "      <td>104</td>\n",
              "      <td>1</td>\n",
              "    </tr>\n",
              "  </tbody>\n",
              "</table>\n",
              "</div>"
            ],
            "text/plain": [
              "   CrimeCode  Description  Inside_Outside  ...  Longitude  Premise  Hour\n",
              "1         49            8               3  ...   -76.6358      104     5\n",
              "2         49            8               3  ...   -76.6411      104     1\n",
              "3         49            8               3  ...   -76.6411      104     1\n",
              "8         49            8               3  ...   -76.5913      104    22\n",
              "9          0            2               3  ...   -76.6451      104     1\n",
              "\n",
              "[5 rows x 10 columns]"
            ]
          },
          "metadata": {
            "tags": []
          },
          "execution_count": 41
        }
      ]
    },
    {
      "cell_type": "code",
      "metadata": {
        "id": "fOYFEFcPhUDP"
      },
      "source": [
        "from sklearn.ensemble import RandomForestRegressor\n",
        "rf = RandomForestRegressor(n_estimators = 20, max_depth = 4)\n",
        "rf.fit(train_features, train_labels);"
      ],
      "execution_count": null,
      "outputs": []
    },
    {
      "cell_type": "code",
      "metadata": {
        "colab": {
          "base_uri": "https://localhost:8080/"
        },
        "id": "YguS12W4jyuj",
        "outputId": "b0fe4731-accb-45c1-ce6a-0e956964d796"
      },
      "source": [
        "predictions = rf.predict(test_features)\n",
        "errors = abs(predictions - test_labels)\n",
        "print('Mean Absolute Error:', round(np.mean(errors), 2), 'degrees.')\n"
      ],
      "execution_count": null,
      "outputs": [
        {
          "output_type": "stream",
          "text": [
            "Mean Absolute Error: 1.16 degrees.\n"
          ],
          "name": "stdout"
        }
      ]
    },
    {
      "cell_type": "code",
      "metadata": {
        "colab": {
          "base_uri": "https://localhost:8080/"
        },
        "id": "g9MKJkxgkVDG",
        "outputId": "0ee8d2d3-cd90-4e18-c645-4f414d14f63d"
      },
      "source": [
        "\n",
        "mape = 100 * (errors / test_labels)\n",
        "accuracy = 100 - np.mean(mape)\n",
        "print('Accuracy:', round(accuracy, 2), '%.')"
      ],
      "execution_count": null,
      "outputs": [
        {
          "output_type": "stream",
          "text": [
            "Accuracy: -inf %.\n"
          ],
          "name": "stdout"
        },
        {
          "output_type": "stream",
          "text": [
            "/usr/local/lib/python3.7/dist-packages/ipykernel_launcher.py:2: RuntimeWarning: divide by zero encountered in true_divide\n",
            "  \n"
          ],
          "name": "stderr"
        }
      ]
    },
    {
      "cell_type": "code",
      "metadata": {
        "id": "OjNYO6Uo7B5X"
      },
      "source": [
        "from sklearn.tree import export_graphviz\n",
        "import pydot\n",
        "tree = rf.estimators_[3]\n",
        "export_graphviz(tree, out_file='crime_tree.dot', feature_names = feature_list, rounded=True, precision=1)\n",
        "(graph, ) = pydot.graph_from_dot_file('crime_tree.dot')\n",
        "\n",
        "graph.write_png('crime_tree.png')\n",
        "predictions_df = pd.DataFrame(predictions)\n",
        "\n",
        "test_labels_df = pd.DataFrame(test_labels)\n",
        "test_labels_df\n",
        "\n",
        "line_up_df = pd.merge(predictions_df, test_labels_df, left_index=True, right_index=True)\n",
        "line_up_df\n",
        "\n",
        "line_up_df.to_csv('random_forest_predictions_to_actuals.csv')"
      ],
      "execution_count": null,
      "outputs": []
    },
    {
      "cell_type": "code",
      "metadata": {
        "colab": {
          "base_uri": "https://localhost:8080/"
        },
        "id": "hdIxqukA7B7p",
        "outputId": "28ef4120-2520-4e11-fbb2-809e975db07b"
      },
      "source": [
        "# Calculate mean absolute percentage error (MAPE)\n",
        "mape = 100 * (errors / test_labels)\n",
        "\n",
        "# Calculate and display accuracy\n",
        "accuracy = 100 - np.mean(mape)\n",
        "print('Accuracy:', round(accuracy, 2), '%.')"
      ],
      "execution_count": null,
      "outputs": [
        {
          "output_type": "stream",
          "text": [
            "Accuracy: -inf %.\n"
          ],
          "name": "stdout"
        },
        {
          "output_type": "stream",
          "text": [
            "/usr/local/lib/python3.7/dist-packages/ipykernel_launcher.py:2: RuntimeWarning: divide by zero encountered in true_divide\n",
            "  \n"
          ],
          "name": "stderr"
        }
      ]
    },
    {
      "cell_type": "code",
      "metadata": {
        "id": "MkoVIBRQ7CCj"
      },
      "source": [
        ""
      ],
      "execution_count": null,
      "outputs": []
    },
    {
      "cell_type": "markdown",
      "metadata": {
        "id": "RLnI6Z85KXKF"
      },
      "source": [
        "ARIMA model"
      ]
    },
    {
      "cell_type": "code",
      "metadata": {
        "id": "-oTGnmPiKY03"
      },
      "source": [
        "import pandas as pd\n",
        "from matplotlib import pyplot as plt\n",
        "from datetime import datetime as dt\n",
        "import seaborn as sns\n",
        "import random\n",
        "from pandas.io.json import json_normalize\n",
        "from sklearn.cluster import KMeans\n",
        "import pandas as pd\n",
        "from sklearn.preprocessing import MinMaxScaler\n",
        "from matplotlib import pyplot as plt\n",
        "%matplotlib inline\n",
        "import numpy as np\n",
        "from sklearn.cluster import KMeans\n",
        "import pandas as pd\n",
        "from sklearn.preprocessing import MinMaxScaler\n",
        "from matplotlib import pyplot as plt\n",
        "%matplotlib inline\n",
        "from sklearn import preprocessing"
      ],
      "execution_count": null,
      "outputs": []
    },
    {
      "cell_type": "code",
      "metadata": {
        "id": "Y0LxKip0KY20",
        "colab": {
          "base_uri": "https://localhost:8080/"
        },
        "outputId": "15c3cd2c-31e4-42aa-b3f4-63ba12021162"
      },
      "source": [
        "pip install pmdarima"
      ],
      "execution_count": null,
      "outputs": [
        {
          "output_type": "stream",
          "text": [
            "Collecting pmdarima\n",
            "  Downloading pmdarima-1.8.2-cp37-cp37m-manylinux1_x86_64.whl (1.5 MB)\n",
            "\u001b[K     |████████████████████████████████| 1.5 MB 3.8 MB/s \n",
            "\u001b[?25hRequirement already satisfied: urllib3 in /usr/local/lib/python3.7/dist-packages (from pmdarima) (1.24.3)\n",
            "Requirement already satisfied: scipy>=1.3.2 in /usr/local/lib/python3.7/dist-packages (from pmdarima) (1.4.1)\n",
            "Requirement already satisfied: setuptools!=50.0.0,>=38.6.0 in /usr/local/lib/python3.7/dist-packages (from pmdarima) (57.2.0)\n",
            "Requirement already satisfied: numpy~=1.19.0 in /usr/local/lib/python3.7/dist-packages (from pmdarima) (1.19.5)\n",
            "Collecting statsmodels!=0.12.0,>=0.11\n",
            "  Downloading statsmodels-0.12.2-cp37-cp37m-manylinux1_x86_64.whl (9.5 MB)\n",
            "\u001b[K     |████████████████████████████████| 9.5 MB 31.0 MB/s \n",
            "\u001b[?25hRequirement already satisfied: scikit-learn>=0.22 in /usr/local/lib/python3.7/dist-packages (from pmdarima) (0.22.2.post1)\n",
            "Requirement already satisfied: pandas>=0.19 in /usr/local/lib/python3.7/dist-packages (from pmdarima) (1.1.5)\n",
            "Requirement already satisfied: joblib>=0.11 in /usr/local/lib/python3.7/dist-packages (from pmdarima) (1.0.1)\n",
            "Requirement already satisfied: Cython!=0.29.18,>=0.29 in /usr/local/lib/python3.7/dist-packages (from pmdarima) (0.29.23)\n",
            "Requirement already satisfied: python-dateutil>=2.7.3 in /usr/local/lib/python3.7/dist-packages (from pandas>=0.19->pmdarima) (2.8.1)\n",
            "Requirement already satisfied: pytz>=2017.2 in /usr/local/lib/python3.7/dist-packages (from pandas>=0.19->pmdarima) (2018.9)\n",
            "Requirement already satisfied: six>=1.5 in /usr/local/lib/python3.7/dist-packages (from python-dateutil>=2.7.3->pandas>=0.19->pmdarima) (1.15.0)\n",
            "Requirement already satisfied: patsy>=0.5 in /usr/local/lib/python3.7/dist-packages (from statsmodels!=0.12.0,>=0.11->pmdarima) (0.5.1)\n",
            "Installing collected packages: statsmodels, pmdarima\n",
            "  Attempting uninstall: statsmodels\n",
            "    Found existing installation: statsmodels 0.10.2\n",
            "    Uninstalling statsmodels-0.10.2:\n",
            "      Successfully uninstalled statsmodels-0.10.2\n",
            "Successfully installed pmdarima-1.8.2 statsmodels-0.12.2\n"
          ],
          "name": "stdout"
        }
      ]
    },
    {
      "cell_type": "code",
      "metadata": {
        "id": "HHBWAq5lKY40"
      },
      "source": [
        "# df['CrimeDateTime'] = pd.to_datetime(df['CrimeDateTime']).dt.date\n",
        "# df.head()"
      ],
      "execution_count": null,
      "outputs": []
    },
    {
      "cell_type": "code",
      "metadata": {
        "id": "AH9UIHGQLI9-"
      },
      "source": [
        "df = pd.read_excel('/content/Part1_Crime_data.xlsx')"
      ],
      "execution_count": null,
      "outputs": []
    },
    {
      "cell_type": "code",
      "metadata": {
        "colab": {
          "base_uri": "https://localhost:8080/",
          "height": 343
        },
        "id": "7DAKSVZ1NGxW",
        "outputId": "84b3e88c-1f41-422d-e091-be5319b58817"
      },
      "source": [
        "df.head()"
      ],
      "execution_count": null,
      "outputs": [
        {
          "output_type": "execute_result",
          "data": {
            "text/html": [
              "<div>\n",
              "<style scoped>\n",
              "    .dataframe tbody tr th:only-of-type {\n",
              "        vertical-align: middle;\n",
              "    }\n",
              "\n",
              "    .dataframe tbody tr th {\n",
              "        vertical-align: top;\n",
              "    }\n",
              "\n",
              "    .dataframe thead th {\n",
              "        text-align: right;\n",
              "    }\n",
              "</style>\n",
              "<table border=\"1\" class=\"dataframe\">\n",
              "  <thead>\n",
              "    <tr style=\"text-align: right;\">\n",
              "      <th></th>\n",
              "      <th>X</th>\n",
              "      <th>Y</th>\n",
              "      <th>RowID</th>\n",
              "      <th>CrimeDateTime</th>\n",
              "      <th>CrimeCode</th>\n",
              "      <th>Location</th>\n",
              "      <th>Description</th>\n",
              "      <th>Inside_Outside</th>\n",
              "      <th>Weapon</th>\n",
              "      <th>Post</th>\n",
              "      <th>District</th>\n",
              "      <th>Neighborhood</th>\n",
              "      <th>Latitude</th>\n",
              "      <th>Longitude</th>\n",
              "      <th>GeoLocation</th>\n",
              "      <th>Premise</th>\n",
              "      <th>VRIName</th>\n",
              "      <th>Total_Incidents</th>\n",
              "      <th>Shape</th>\n",
              "    </tr>\n",
              "  </thead>\n",
              "  <tbody>\n",
              "    <tr>\n",
              "      <th>0</th>\n",
              "      <td>1.431688e+06</td>\n",
              "      <td>604046.096242</td>\n",
              "      <td>1</td>\n",
              "      <td>2021/07/03 14:32:00+00</td>\n",
              "      <td>6E</td>\n",
              "      <td>3300 RICHMOND AVE</td>\n",
              "      <td>LARCENY</td>\n",
              "      <td>NaN</td>\n",
              "      <td>NaN</td>\n",
              "      <td>432</td>\n",
              "      <td>NORTHEAST</td>\n",
              "      <td>BELAIR-EDISON</td>\n",
              "      <td>39.3245</td>\n",
              "      <td>-76.5781</td>\n",
              "      <td>(39.3245,-76.5781)</td>\n",
              "      <td>NaN</td>\n",
              "      <td>NaN</td>\n",
              "      <td>1</td>\n",
              "      <td>NaN</td>\n",
              "    </tr>\n",
              "    <tr>\n",
              "      <th>1</th>\n",
              "      <td>1.415386e+06</td>\n",
              "      <td>598803.710854</td>\n",
              "      <td>2</td>\n",
              "      <td>2021/07/03 05:21:54+00</td>\n",
              "      <td>9S</td>\n",
              "      <td>1100 W NORTH AVE</td>\n",
              "      <td>SHOOTING</td>\n",
              "      <td>Outside</td>\n",
              "      <td>FIREARM</td>\n",
              "      <td>133</td>\n",
              "      <td>CENTRAL</td>\n",
              "      <td>DRUID HEIGHTS</td>\n",
              "      <td>39.3103</td>\n",
              "      <td>-76.6358</td>\n",
              "      <td>(39.3103,-76.6358)</td>\n",
              "      <td>STREET</td>\n",
              "      <td>NaN</td>\n",
              "      <td>1</td>\n",
              "      <td>NaN</td>\n",
              "    </tr>\n",
              "    <tr>\n",
              "      <th>2</th>\n",
              "      <td>1.413955e+06</td>\n",
              "      <td>581387.604790</td>\n",
              "      <td>3</td>\n",
              "      <td>2021/07/03 01:37:14+00</td>\n",
              "      <td>9S</td>\n",
              "      <td>2400 ANNOR CT</td>\n",
              "      <td>SHOOTING</td>\n",
              "      <td>Outside</td>\n",
              "      <td>FIREARM</td>\n",
              "      <td>921</td>\n",
              "      <td>SOUTHERN</td>\n",
              "      <td>WESTPORT</td>\n",
              "      <td>39.2625</td>\n",
              "      <td>-76.6411</td>\n",
              "      <td>(39.2625,-76.6411)</td>\n",
              "      <td>STREET</td>\n",
              "      <td>NaN</td>\n",
              "      <td>1</td>\n",
              "      <td>NaN</td>\n",
              "    </tr>\n",
              "    <tr>\n",
              "      <th>3</th>\n",
              "      <td>1.413955e+06</td>\n",
              "      <td>581387.604790</td>\n",
              "      <td>4</td>\n",
              "      <td>2021/07/03 01:37:14+00</td>\n",
              "      <td>9S</td>\n",
              "      <td>2400 ANNOR CT</td>\n",
              "      <td>SHOOTING</td>\n",
              "      <td>Outside</td>\n",
              "      <td>FIREARM</td>\n",
              "      <td>921</td>\n",
              "      <td>SOUTHERN</td>\n",
              "      <td>WESTPORT</td>\n",
              "      <td>39.2625</td>\n",
              "      <td>-76.6411</td>\n",
              "      <td>(39.2625,-76.6411)</td>\n",
              "      <td>STREET</td>\n",
              "      <td>NaN</td>\n",
              "      <td>1</td>\n",
              "      <td>NaN</td>\n",
              "    </tr>\n",
              "    <tr>\n",
              "      <th>4</th>\n",
              "      <td>1.424268e+06</td>\n",
              "      <td>586493.057063</td>\n",
              "      <td>5</td>\n",
              "      <td>2021/07/03 14:00:00+00</td>\n",
              "      <td>6E</td>\n",
              "      <td>500 HARBORVIEW DR</td>\n",
              "      <td>LARCENY</td>\n",
              "      <td>I</td>\n",
              "      <td>NaN</td>\n",
              "      <td>943</td>\n",
              "      <td>SOUTHERN</td>\n",
              "      <td>INNER HARBOR</td>\n",
              "      <td>39.2764</td>\n",
              "      <td>-76.6046</td>\n",
              "      <td>(39.2764,-76.6046)</td>\n",
              "      <td>PARKING LOT-INSIDE</td>\n",
              "      <td>NaN</td>\n",
              "      <td>1</td>\n",
              "      <td>NaN</td>\n",
              "    </tr>\n",
              "  </tbody>\n",
              "</table>\n",
              "</div>"
            ],
            "text/plain": [
              "              X              Y  RowID  ... VRIName Total_Incidents Shape\n",
              "0  1.431688e+06  604046.096242      1  ...     NaN               1   NaN\n",
              "1  1.415386e+06  598803.710854      2  ...     NaN               1   NaN\n",
              "2  1.413955e+06  581387.604790      3  ...     NaN               1   NaN\n",
              "3  1.413955e+06  581387.604790      4  ...     NaN               1   NaN\n",
              "4  1.424268e+06  586493.057063      5  ...     NaN               1   NaN\n",
              "\n",
              "[5 rows x 19 columns]"
            ]
          },
          "metadata": {
            "tags": []
          },
          "execution_count": 34
        }
      ]
    },
    {
      "cell_type": "code",
      "metadata": {
        "colab": {
          "base_uri": "https://localhost:8080/",
          "height": 204
        },
        "id": "hQBK9o8ELofi",
        "outputId": "52e649f5-0800-4f90-9c26-0569ee4e7c53"
      },
      "source": [
        "df = df.drop([\"RowID\", \"Total_Incidents\", \n",
        "                    \"Shape\", \"GeoLocation\",\n",
        "                    \"VRIName\", \"Location\", \"Shape\", \"Post\"], axis = 1)\n",
        "\n",
        "df.head()"
      ],
      "execution_count": null,
      "outputs": [
        {
          "output_type": "execute_result",
          "data": {
            "text/html": [
              "<div>\n",
              "<style scoped>\n",
              "    .dataframe tbody tr th:only-of-type {\n",
              "        vertical-align: middle;\n",
              "    }\n",
              "\n",
              "    .dataframe tbody tr th {\n",
              "        vertical-align: top;\n",
              "    }\n",
              "\n",
              "    .dataframe thead th {\n",
              "        text-align: right;\n",
              "    }\n",
              "</style>\n",
              "<table border=\"1\" class=\"dataframe\">\n",
              "  <thead>\n",
              "    <tr style=\"text-align: right;\">\n",
              "      <th></th>\n",
              "      <th>X</th>\n",
              "      <th>Y</th>\n",
              "      <th>CrimeDateTime</th>\n",
              "      <th>CrimeCode</th>\n",
              "      <th>Description</th>\n",
              "      <th>Inside_Outside</th>\n",
              "      <th>Weapon</th>\n",
              "      <th>District</th>\n",
              "      <th>Neighborhood</th>\n",
              "      <th>Latitude</th>\n",
              "      <th>Longitude</th>\n",
              "      <th>Premise</th>\n",
              "    </tr>\n",
              "  </thead>\n",
              "  <tbody>\n",
              "    <tr>\n",
              "      <th>0</th>\n",
              "      <td>1.431688e+06</td>\n",
              "      <td>604046.096242</td>\n",
              "      <td>2021/07/03 14:32:00+00</td>\n",
              "      <td>6E</td>\n",
              "      <td>LARCENY</td>\n",
              "      <td>NaN</td>\n",
              "      <td>NaN</td>\n",
              "      <td>NORTHEAST</td>\n",
              "      <td>BELAIR-EDISON</td>\n",
              "      <td>39.3245</td>\n",
              "      <td>-76.5781</td>\n",
              "      <td>NaN</td>\n",
              "    </tr>\n",
              "    <tr>\n",
              "      <th>1</th>\n",
              "      <td>1.415386e+06</td>\n",
              "      <td>598803.710854</td>\n",
              "      <td>2021/07/03 05:21:54+00</td>\n",
              "      <td>9S</td>\n",
              "      <td>SHOOTING</td>\n",
              "      <td>Outside</td>\n",
              "      <td>FIREARM</td>\n",
              "      <td>CENTRAL</td>\n",
              "      <td>DRUID HEIGHTS</td>\n",
              "      <td>39.3103</td>\n",
              "      <td>-76.6358</td>\n",
              "      <td>STREET</td>\n",
              "    </tr>\n",
              "    <tr>\n",
              "      <th>2</th>\n",
              "      <td>1.413955e+06</td>\n",
              "      <td>581387.604790</td>\n",
              "      <td>2021/07/03 01:37:14+00</td>\n",
              "      <td>9S</td>\n",
              "      <td>SHOOTING</td>\n",
              "      <td>Outside</td>\n",
              "      <td>FIREARM</td>\n",
              "      <td>SOUTHERN</td>\n",
              "      <td>WESTPORT</td>\n",
              "      <td>39.2625</td>\n",
              "      <td>-76.6411</td>\n",
              "      <td>STREET</td>\n",
              "    </tr>\n",
              "    <tr>\n",
              "      <th>3</th>\n",
              "      <td>1.413955e+06</td>\n",
              "      <td>581387.604790</td>\n",
              "      <td>2021/07/03 01:37:14+00</td>\n",
              "      <td>9S</td>\n",
              "      <td>SHOOTING</td>\n",
              "      <td>Outside</td>\n",
              "      <td>FIREARM</td>\n",
              "      <td>SOUTHERN</td>\n",
              "      <td>WESTPORT</td>\n",
              "      <td>39.2625</td>\n",
              "      <td>-76.6411</td>\n",
              "      <td>STREET</td>\n",
              "    </tr>\n",
              "    <tr>\n",
              "      <th>4</th>\n",
              "      <td>1.424268e+06</td>\n",
              "      <td>586493.057063</td>\n",
              "      <td>2021/07/03 14:00:00+00</td>\n",
              "      <td>6E</td>\n",
              "      <td>LARCENY</td>\n",
              "      <td>I</td>\n",
              "      <td>NaN</td>\n",
              "      <td>SOUTHERN</td>\n",
              "      <td>INNER HARBOR</td>\n",
              "      <td>39.2764</td>\n",
              "      <td>-76.6046</td>\n",
              "      <td>PARKING LOT-INSIDE</td>\n",
              "    </tr>\n",
              "  </tbody>\n",
              "</table>\n",
              "</div>"
            ],
            "text/plain": [
              "              X              Y  ... Longitude               Premise\n",
              "0  1.431688e+06  604046.096242  ...  -76.5781                   NaN\n",
              "1  1.415386e+06  598803.710854  ...  -76.6358                STREET\n",
              "2  1.413955e+06  581387.604790  ...  -76.6411                STREET\n",
              "3  1.413955e+06  581387.604790  ...  -76.6411                STREET\n",
              "4  1.424268e+06  586493.057063  ...  -76.6046  PARKING LOT-INSIDE  \n",
              "\n",
              "[5 rows x 12 columns]"
            ]
          },
          "metadata": {
            "tags": []
          },
          "execution_count": 35
        }
      ]
    },
    {
      "cell_type": "code",
      "metadata": {
        "id": "GB1EHuiLP8hE"
      },
      "source": [
        "df['CrimeDateTime'] = pd.to_datetime(df['CrimeDateTime']).dt.date\n",
        "df['Year'] = pd. DatetimeIndex(df['CrimeDateTime']).year"
      ],
      "execution_count": null,
      "outputs": []
    },
    {
      "cell_type": "code",
      "metadata": {
        "colab": {
          "base_uri": "https://localhost:8080/",
          "height": 204
        },
        "id": "qrx0ddD5QEQz",
        "outputId": "e5582a77-497f-42a2-f544-03b1b616a363"
      },
      "source": [
        "df.head()"
      ],
      "execution_count": null,
      "outputs": [
        {
          "output_type": "execute_result",
          "data": {
            "text/html": [
              "<div>\n",
              "<style scoped>\n",
              "    .dataframe tbody tr th:only-of-type {\n",
              "        vertical-align: middle;\n",
              "    }\n",
              "\n",
              "    .dataframe tbody tr th {\n",
              "        vertical-align: top;\n",
              "    }\n",
              "\n",
              "    .dataframe thead th {\n",
              "        text-align: right;\n",
              "    }\n",
              "</style>\n",
              "<table border=\"1\" class=\"dataframe\">\n",
              "  <thead>\n",
              "    <tr style=\"text-align: right;\">\n",
              "      <th></th>\n",
              "      <th>X</th>\n",
              "      <th>Y</th>\n",
              "      <th>CrimeDateTime</th>\n",
              "      <th>CrimeCode</th>\n",
              "      <th>Description</th>\n",
              "      <th>Inside_Outside</th>\n",
              "      <th>Weapon</th>\n",
              "      <th>District</th>\n",
              "      <th>Neighborhood</th>\n",
              "      <th>Latitude</th>\n",
              "      <th>Longitude</th>\n",
              "      <th>Premise</th>\n",
              "      <th>Year</th>\n",
              "    </tr>\n",
              "  </thead>\n",
              "  <tbody>\n",
              "    <tr>\n",
              "      <th>0</th>\n",
              "      <td>1.431688e+06</td>\n",
              "      <td>604046.096242</td>\n",
              "      <td>2021-07-03</td>\n",
              "      <td>6E</td>\n",
              "      <td>LARCENY</td>\n",
              "      <td>NaN</td>\n",
              "      <td>NaN</td>\n",
              "      <td>NORTHEAST</td>\n",
              "      <td>BELAIR-EDISON</td>\n",
              "      <td>39.3245</td>\n",
              "      <td>-76.5781</td>\n",
              "      <td>NaN</td>\n",
              "      <td>2021</td>\n",
              "    </tr>\n",
              "    <tr>\n",
              "      <th>1</th>\n",
              "      <td>1.415386e+06</td>\n",
              "      <td>598803.710854</td>\n",
              "      <td>2021-07-03</td>\n",
              "      <td>9S</td>\n",
              "      <td>SHOOTING</td>\n",
              "      <td>Outside</td>\n",
              "      <td>FIREARM</td>\n",
              "      <td>CENTRAL</td>\n",
              "      <td>DRUID HEIGHTS</td>\n",
              "      <td>39.3103</td>\n",
              "      <td>-76.6358</td>\n",
              "      <td>STREET</td>\n",
              "      <td>2021</td>\n",
              "    </tr>\n",
              "    <tr>\n",
              "      <th>2</th>\n",
              "      <td>1.413955e+06</td>\n",
              "      <td>581387.604790</td>\n",
              "      <td>2021-07-03</td>\n",
              "      <td>9S</td>\n",
              "      <td>SHOOTING</td>\n",
              "      <td>Outside</td>\n",
              "      <td>FIREARM</td>\n",
              "      <td>SOUTHERN</td>\n",
              "      <td>WESTPORT</td>\n",
              "      <td>39.2625</td>\n",
              "      <td>-76.6411</td>\n",
              "      <td>STREET</td>\n",
              "      <td>2021</td>\n",
              "    </tr>\n",
              "    <tr>\n",
              "      <th>3</th>\n",
              "      <td>1.413955e+06</td>\n",
              "      <td>581387.604790</td>\n",
              "      <td>2021-07-03</td>\n",
              "      <td>9S</td>\n",
              "      <td>SHOOTING</td>\n",
              "      <td>Outside</td>\n",
              "      <td>FIREARM</td>\n",
              "      <td>SOUTHERN</td>\n",
              "      <td>WESTPORT</td>\n",
              "      <td>39.2625</td>\n",
              "      <td>-76.6411</td>\n",
              "      <td>STREET</td>\n",
              "      <td>2021</td>\n",
              "    </tr>\n",
              "    <tr>\n",
              "      <th>4</th>\n",
              "      <td>1.424268e+06</td>\n",
              "      <td>586493.057063</td>\n",
              "      <td>2021-07-03</td>\n",
              "      <td>6E</td>\n",
              "      <td>LARCENY</td>\n",
              "      <td>I</td>\n",
              "      <td>NaN</td>\n",
              "      <td>SOUTHERN</td>\n",
              "      <td>INNER HARBOR</td>\n",
              "      <td>39.2764</td>\n",
              "      <td>-76.6046</td>\n",
              "      <td>PARKING LOT-INSIDE</td>\n",
              "      <td>2021</td>\n",
              "    </tr>\n",
              "  </tbody>\n",
              "</table>\n",
              "</div>"
            ],
            "text/plain": [
              "              X              Y  ...               Premise  Year\n",
              "0  1.431688e+06  604046.096242  ...                   NaN  2021\n",
              "1  1.415386e+06  598803.710854  ...                STREET  2021\n",
              "2  1.413955e+06  581387.604790  ...                STREET  2021\n",
              "3  1.413955e+06  581387.604790  ...                STREET  2021\n",
              "4  1.424268e+06  586493.057063  ...  PARKING LOT-INSIDE    2021\n",
              "\n",
              "[5 rows x 13 columns]"
            ]
          },
          "metadata": {
            "tags": []
          },
          "execution_count": 37
        }
      ]
    },
    {
      "cell_type": "code",
      "metadata": {
        "id": "rBH1NF2VQkUD"
      },
      "source": [
        "# STOPPED HERE... TURN \"CrimeDateTime\" to a y m d, select years greater than 2014, then set as index\n",
        "# df_i = df.set_index('name')\n",
        "# print(df_i)\n",
        "# df['CrimeDateTime'] = df['CrimeDateTime'].dt.date"
      ],
      "execution_count": null,
      "outputs": []
    },
    {
      "cell_type": "code",
      "metadata": {
        "colab": {
          "base_uri": "https://localhost:8080/"
        },
        "id": "7e1eCd5fPV7H",
        "outputId": "e045d063-fbce-48d1-f745-027f90b9c3e0"
      },
      "source": [
        "df = df[df[\"Year\"] > 2014]\n",
        "df.dtypes\n"
      ],
      "execution_count": null,
      "outputs": [
        {
          "output_type": "execute_result",
          "data": {
            "text/plain": [
              "X                 float64\n",
              "Y                 float64\n",
              "CrimeDateTime      object\n",
              "CrimeCode          object\n",
              "Description        object\n",
              "Inside_Outside     object\n",
              "Weapon             object\n",
              "District           object\n",
              "Neighborhood       object\n",
              "Latitude          float64\n",
              "Longitude         float64\n",
              "Premise            object\n",
              "Year                int64\n",
              "dtype: object"
            ]
          },
          "metadata": {
            "tags": []
          },
          "execution_count": 39
        }
      ]
    },
    {
      "cell_type": "code",
      "metadata": {
        "id": "KH9-B4pdLy5w",
        "colab": {
          "base_uri": "https://localhost:8080/",
          "height": 204
        },
        "outputId": "f9601546-00e2-4d67-de35-208cba4974e6"
      },
      "source": [
        "\n",
        "df = df[df[\"CrimeCode\"].notna()]\n",
        "df = df[df[\"Description\"].notna()]\n",
        "df = df[df[\"Inside_Outside\"].notna()]\n",
        "df = df[df[\"Weapon\"].notna()]\n",
        "df = df[df[\"District\"].notna()]\n",
        "df = df[df[\"Neighborhood\"].notna()]\n",
        "df = df[df[\"Latitude\"].notna()]\n",
        "df = df[df[\"Longitude\"].notna()]\n",
        "df = df[df[\"Premise\"].notna()]\n",
        "df = df[df[\"Premise\"].notna()]\n",
        "\n",
        "df.head()"
      ],
      "execution_count": null,
      "outputs": [
        {
          "output_type": "execute_result",
          "data": {
            "text/html": [
              "<div>\n",
              "<style scoped>\n",
              "    .dataframe tbody tr th:only-of-type {\n",
              "        vertical-align: middle;\n",
              "    }\n",
              "\n",
              "    .dataframe tbody tr th {\n",
              "        vertical-align: top;\n",
              "    }\n",
              "\n",
              "    .dataframe thead th {\n",
              "        text-align: right;\n",
              "    }\n",
              "</style>\n",
              "<table border=\"1\" class=\"dataframe\">\n",
              "  <thead>\n",
              "    <tr style=\"text-align: right;\">\n",
              "      <th></th>\n",
              "      <th>X</th>\n",
              "      <th>Y</th>\n",
              "      <th>CrimeDateTime</th>\n",
              "      <th>CrimeCode</th>\n",
              "      <th>Description</th>\n",
              "      <th>Inside_Outside</th>\n",
              "      <th>Weapon</th>\n",
              "      <th>District</th>\n",
              "      <th>Neighborhood</th>\n",
              "      <th>Latitude</th>\n",
              "      <th>Longitude</th>\n",
              "      <th>Premise</th>\n",
              "      <th>Year</th>\n",
              "    </tr>\n",
              "  </thead>\n",
              "  <tbody>\n",
              "    <tr>\n",
              "      <th>1</th>\n",
              "      <td>1.415386e+06</td>\n",
              "      <td>598803.710854</td>\n",
              "      <td>2021-07-03</td>\n",
              "      <td>9S</td>\n",
              "      <td>SHOOTING</td>\n",
              "      <td>Outside</td>\n",
              "      <td>FIREARM</td>\n",
              "      <td>CENTRAL</td>\n",
              "      <td>DRUID HEIGHTS</td>\n",
              "      <td>39.3103</td>\n",
              "      <td>-76.6358</td>\n",
              "      <td>STREET</td>\n",
              "      <td>2021</td>\n",
              "    </tr>\n",
              "    <tr>\n",
              "      <th>2</th>\n",
              "      <td>1.413955e+06</td>\n",
              "      <td>581387.604790</td>\n",
              "      <td>2021-07-03</td>\n",
              "      <td>9S</td>\n",
              "      <td>SHOOTING</td>\n",
              "      <td>Outside</td>\n",
              "      <td>FIREARM</td>\n",
              "      <td>SOUTHERN</td>\n",
              "      <td>WESTPORT</td>\n",
              "      <td>39.2625</td>\n",
              "      <td>-76.6411</td>\n",
              "      <td>STREET</td>\n",
              "      <td>2021</td>\n",
              "    </tr>\n",
              "    <tr>\n",
              "      <th>3</th>\n",
              "      <td>1.413955e+06</td>\n",
              "      <td>581387.604790</td>\n",
              "      <td>2021-07-03</td>\n",
              "      <td>9S</td>\n",
              "      <td>SHOOTING</td>\n",
              "      <td>Outside</td>\n",
              "      <td>FIREARM</td>\n",
              "      <td>SOUTHERN</td>\n",
              "      <td>WESTPORT</td>\n",
              "      <td>39.2625</td>\n",
              "      <td>-76.6411</td>\n",
              "      <td>STREET</td>\n",
              "      <td>2021</td>\n",
              "    </tr>\n",
              "    <tr>\n",
              "      <th>8</th>\n",
              "      <td>1.428002e+06</td>\n",
              "      <td>593393.558177</td>\n",
              "      <td>2021-07-02</td>\n",
              "      <td>9S</td>\n",
              "      <td>SHOOTING</td>\n",
              "      <td>Outside</td>\n",
              "      <td>FIREARM</td>\n",
              "      <td>EASTERN</td>\n",
              "      <td>DUNBAR-BROADWAY</td>\n",
              "      <td>39.2953</td>\n",
              "      <td>-76.5913</td>\n",
              "      <td>STREET</td>\n",
              "      <td>2021</td>\n",
              "    </tr>\n",
              "    <tr>\n",
              "      <th>9</th>\n",
              "      <td>1.412791e+06</td>\n",
              "      <td>589505.463782</td>\n",
              "      <td>2021-07-02</td>\n",
              "      <td>1A</td>\n",
              "      <td>HOMICIDE</td>\n",
              "      <td>Outside</td>\n",
              "      <td>FIREARM</td>\n",
              "      <td>SOUTHERN</td>\n",
              "      <td>CARROLLTON RIDGE</td>\n",
              "      <td>39.2848</td>\n",
              "      <td>-76.6451</td>\n",
              "      <td>STREET</td>\n",
              "      <td>2021</td>\n",
              "    </tr>\n",
              "  </tbody>\n",
              "</table>\n",
              "</div>"
            ],
            "text/plain": [
              "              X              Y CrimeDateTime  ... Longitude Premise  Year\n",
              "1  1.415386e+06  598803.710854    2021-07-03  ...  -76.6358  STREET  2021\n",
              "2  1.413955e+06  581387.604790    2021-07-03  ...  -76.6411  STREET  2021\n",
              "3  1.413955e+06  581387.604790    2021-07-03  ...  -76.6411  STREET  2021\n",
              "8  1.428002e+06  593393.558177    2021-07-02  ...  -76.5913  STREET  2021\n",
              "9  1.412791e+06  589505.463782    2021-07-02  ...  -76.6451  STREET  2021\n",
              "\n",
              "[5 rows x 13 columns]"
            ]
          },
          "metadata": {
            "tags": []
          },
          "execution_count": 40
        }
      ]
    },
    {
      "cell_type": "code",
      "metadata": {
        "colab": {
          "base_uri": "https://localhost:8080/",
          "height": 204
        },
        "id": "H1ZlwaGlLy8D",
        "outputId": "2f12b9f4-ee34-41f3-c2d7-55505d21a5c6"
      },
      "source": [
        "label_encoder = preprocessing.LabelEncoder()\n",
        "df[\"Description\"] = label_encoder.fit_transform(df[\"Description\"])\n",
        "df[\"CrimeCode\"] = label_encoder.fit_transform(df[\"CrimeCode\"])\n",
        "df.head()"
      ],
      "execution_count": null,
      "outputs": [
        {
          "output_type": "execute_result",
          "data": {
            "text/html": [
              "<div>\n",
              "<style scoped>\n",
              "    .dataframe tbody tr th:only-of-type {\n",
              "        vertical-align: middle;\n",
              "    }\n",
              "\n",
              "    .dataframe tbody tr th {\n",
              "        vertical-align: top;\n",
              "    }\n",
              "\n",
              "    .dataframe thead th {\n",
              "        text-align: right;\n",
              "    }\n",
              "</style>\n",
              "<table border=\"1\" class=\"dataframe\">\n",
              "  <thead>\n",
              "    <tr style=\"text-align: right;\">\n",
              "      <th></th>\n",
              "      <th>X</th>\n",
              "      <th>Y</th>\n",
              "      <th>CrimeDateTime</th>\n",
              "      <th>CrimeCode</th>\n",
              "      <th>Description</th>\n",
              "      <th>Inside_Outside</th>\n",
              "      <th>Weapon</th>\n",
              "      <th>District</th>\n",
              "      <th>Neighborhood</th>\n",
              "      <th>Latitude</th>\n",
              "      <th>Longitude</th>\n",
              "      <th>Premise</th>\n",
              "      <th>Year</th>\n",
              "    </tr>\n",
              "  </thead>\n",
              "  <tbody>\n",
              "    <tr>\n",
              "      <th>1</th>\n",
              "      <td>1.415386e+06</td>\n",
              "      <td>598803.710854</td>\n",
              "      <td>2021-07-03</td>\n",
              "      <td>49</td>\n",
              "      <td>8</td>\n",
              "      <td>Outside</td>\n",
              "      <td>FIREARM</td>\n",
              "      <td>CENTRAL</td>\n",
              "      <td>DRUID HEIGHTS</td>\n",
              "      <td>39.3103</td>\n",
              "      <td>-76.6358</td>\n",
              "      <td>STREET</td>\n",
              "      <td>2021</td>\n",
              "    </tr>\n",
              "    <tr>\n",
              "      <th>2</th>\n",
              "      <td>1.413955e+06</td>\n",
              "      <td>581387.604790</td>\n",
              "      <td>2021-07-03</td>\n",
              "      <td>49</td>\n",
              "      <td>8</td>\n",
              "      <td>Outside</td>\n",
              "      <td>FIREARM</td>\n",
              "      <td>SOUTHERN</td>\n",
              "      <td>WESTPORT</td>\n",
              "      <td>39.2625</td>\n",
              "      <td>-76.6411</td>\n",
              "      <td>STREET</td>\n",
              "      <td>2021</td>\n",
              "    </tr>\n",
              "    <tr>\n",
              "      <th>3</th>\n",
              "      <td>1.413955e+06</td>\n",
              "      <td>581387.604790</td>\n",
              "      <td>2021-07-03</td>\n",
              "      <td>49</td>\n",
              "      <td>8</td>\n",
              "      <td>Outside</td>\n",
              "      <td>FIREARM</td>\n",
              "      <td>SOUTHERN</td>\n",
              "      <td>WESTPORT</td>\n",
              "      <td>39.2625</td>\n",
              "      <td>-76.6411</td>\n",
              "      <td>STREET</td>\n",
              "      <td>2021</td>\n",
              "    </tr>\n",
              "    <tr>\n",
              "      <th>8</th>\n",
              "      <td>1.428002e+06</td>\n",
              "      <td>593393.558177</td>\n",
              "      <td>2021-07-02</td>\n",
              "      <td>49</td>\n",
              "      <td>8</td>\n",
              "      <td>Outside</td>\n",
              "      <td>FIREARM</td>\n",
              "      <td>EASTERN</td>\n",
              "      <td>DUNBAR-BROADWAY</td>\n",
              "      <td>39.2953</td>\n",
              "      <td>-76.5913</td>\n",
              "      <td>STREET</td>\n",
              "      <td>2021</td>\n",
              "    </tr>\n",
              "    <tr>\n",
              "      <th>9</th>\n",
              "      <td>1.412791e+06</td>\n",
              "      <td>589505.463782</td>\n",
              "      <td>2021-07-02</td>\n",
              "      <td>0</td>\n",
              "      <td>2</td>\n",
              "      <td>Outside</td>\n",
              "      <td>FIREARM</td>\n",
              "      <td>SOUTHERN</td>\n",
              "      <td>CARROLLTON RIDGE</td>\n",
              "      <td>39.2848</td>\n",
              "      <td>-76.6451</td>\n",
              "      <td>STREET</td>\n",
              "      <td>2021</td>\n",
              "    </tr>\n",
              "  </tbody>\n",
              "</table>\n",
              "</div>"
            ],
            "text/plain": [
              "              X              Y CrimeDateTime  ...  Longitude  Premise  Year\n",
              "1  1.415386e+06  598803.710854    2021-07-03  ...   -76.6358   STREET  2021\n",
              "2  1.413955e+06  581387.604790    2021-07-03  ...   -76.6411   STREET  2021\n",
              "3  1.413955e+06  581387.604790    2021-07-03  ...   -76.6411   STREET  2021\n",
              "8  1.428002e+06  593393.558177    2021-07-02  ...   -76.5913   STREET  2021\n",
              "9  1.412791e+06  589505.463782    2021-07-02  ...   -76.6451   STREET  2021\n",
              "\n",
              "[5 rows x 13 columns]"
            ]
          },
          "metadata": {
            "tags": []
          },
          "execution_count": 41
        }
      ]
    },
    {
      "cell_type": "code",
      "metadata": {
        "id": "908eKprNOReJ",
        "colab": {
          "base_uri": "https://localhost:8080/",
          "height": 235
        },
        "outputId": "bdd878d9-6f11-4f66-8610-fac788b30890"
      },
      "source": [
        "df = df.set_index('CrimeDateTime')\n",
        "df.head()"
      ],
      "execution_count": null,
      "outputs": [
        {
          "output_type": "execute_result",
          "data": {
            "text/html": [
              "<div>\n",
              "<style scoped>\n",
              "    .dataframe tbody tr th:only-of-type {\n",
              "        vertical-align: middle;\n",
              "    }\n",
              "\n",
              "    .dataframe tbody tr th {\n",
              "        vertical-align: top;\n",
              "    }\n",
              "\n",
              "    .dataframe thead th {\n",
              "        text-align: right;\n",
              "    }\n",
              "</style>\n",
              "<table border=\"1\" class=\"dataframe\">\n",
              "  <thead>\n",
              "    <tr style=\"text-align: right;\">\n",
              "      <th></th>\n",
              "      <th>X</th>\n",
              "      <th>Y</th>\n",
              "      <th>CrimeCode</th>\n",
              "      <th>Description</th>\n",
              "      <th>Inside_Outside</th>\n",
              "      <th>Weapon</th>\n",
              "      <th>District</th>\n",
              "      <th>Neighborhood</th>\n",
              "      <th>Latitude</th>\n",
              "      <th>Longitude</th>\n",
              "      <th>Premise</th>\n",
              "      <th>Year</th>\n",
              "    </tr>\n",
              "    <tr>\n",
              "      <th>CrimeDateTime</th>\n",
              "      <th></th>\n",
              "      <th></th>\n",
              "      <th></th>\n",
              "      <th></th>\n",
              "      <th></th>\n",
              "      <th></th>\n",
              "      <th></th>\n",
              "      <th></th>\n",
              "      <th></th>\n",
              "      <th></th>\n",
              "      <th></th>\n",
              "      <th></th>\n",
              "    </tr>\n",
              "  </thead>\n",
              "  <tbody>\n",
              "    <tr>\n",
              "      <th>2021-07-03</th>\n",
              "      <td>1.415386e+06</td>\n",
              "      <td>598803.710854</td>\n",
              "      <td>49</td>\n",
              "      <td>8</td>\n",
              "      <td>Outside</td>\n",
              "      <td>FIREARM</td>\n",
              "      <td>CENTRAL</td>\n",
              "      <td>DRUID HEIGHTS</td>\n",
              "      <td>39.3103</td>\n",
              "      <td>-76.6358</td>\n",
              "      <td>STREET</td>\n",
              "      <td>2021</td>\n",
              "    </tr>\n",
              "    <tr>\n",
              "      <th>2021-07-03</th>\n",
              "      <td>1.413955e+06</td>\n",
              "      <td>581387.604790</td>\n",
              "      <td>49</td>\n",
              "      <td>8</td>\n",
              "      <td>Outside</td>\n",
              "      <td>FIREARM</td>\n",
              "      <td>SOUTHERN</td>\n",
              "      <td>WESTPORT</td>\n",
              "      <td>39.2625</td>\n",
              "      <td>-76.6411</td>\n",
              "      <td>STREET</td>\n",
              "      <td>2021</td>\n",
              "    </tr>\n",
              "    <tr>\n",
              "      <th>2021-07-03</th>\n",
              "      <td>1.413955e+06</td>\n",
              "      <td>581387.604790</td>\n",
              "      <td>49</td>\n",
              "      <td>8</td>\n",
              "      <td>Outside</td>\n",
              "      <td>FIREARM</td>\n",
              "      <td>SOUTHERN</td>\n",
              "      <td>WESTPORT</td>\n",
              "      <td>39.2625</td>\n",
              "      <td>-76.6411</td>\n",
              "      <td>STREET</td>\n",
              "      <td>2021</td>\n",
              "    </tr>\n",
              "    <tr>\n",
              "      <th>2021-07-02</th>\n",
              "      <td>1.428002e+06</td>\n",
              "      <td>593393.558177</td>\n",
              "      <td>49</td>\n",
              "      <td>8</td>\n",
              "      <td>Outside</td>\n",
              "      <td>FIREARM</td>\n",
              "      <td>EASTERN</td>\n",
              "      <td>DUNBAR-BROADWAY</td>\n",
              "      <td>39.2953</td>\n",
              "      <td>-76.5913</td>\n",
              "      <td>STREET</td>\n",
              "      <td>2021</td>\n",
              "    </tr>\n",
              "    <tr>\n",
              "      <th>2021-07-02</th>\n",
              "      <td>1.412791e+06</td>\n",
              "      <td>589505.463782</td>\n",
              "      <td>0</td>\n",
              "      <td>2</td>\n",
              "      <td>Outside</td>\n",
              "      <td>FIREARM</td>\n",
              "      <td>SOUTHERN</td>\n",
              "      <td>CARROLLTON RIDGE</td>\n",
              "      <td>39.2848</td>\n",
              "      <td>-76.6451</td>\n",
              "      <td>STREET</td>\n",
              "      <td>2021</td>\n",
              "    </tr>\n",
              "  </tbody>\n",
              "</table>\n",
              "</div>"
            ],
            "text/plain": [
              "                          X              Y  CrimeCode  ...  Longitude Premise  Year\n",
              "CrimeDateTime                                          ...                         \n",
              "2021-07-03     1.415386e+06  598803.710854         49  ...   -76.6358  STREET  2021\n",
              "2021-07-03     1.413955e+06  581387.604790         49  ...   -76.6411  STREET  2021\n",
              "2021-07-03     1.413955e+06  581387.604790         49  ...   -76.6411  STREET  2021\n",
              "2021-07-02     1.428002e+06  593393.558177         49  ...   -76.5913  STREET  2021\n",
              "2021-07-02     1.412791e+06  589505.463782          0  ...   -76.6451  STREET  2021\n",
              "\n",
              "[5 rows x 12 columns]"
            ]
          },
          "metadata": {
            "tags": []
          },
          "execution_count": 42
        }
      ]
    },
    {
      "cell_type": "code",
      "metadata": {
        "id": "tC3XRRdpT-oK"
      },
      "source": [
        "df_shooting = pd.read_excel('/content/Part1_Crime_data.xlsx')\n",
        "df_shooting = df_shooting[df_shooting[\"Description\"] == 8]"
      ],
      "execution_count": null,
      "outputs": []
    },
    {
      "cell_type": "code",
      "metadata": {
        "id": "EXn18Df-Ly-d"
      },
      "source": [
        "df_shooting([\"Description\" = 8].count()).plot(figsize = (15,15))"
      ],
      "execution_count": null,
      "outputs": []
    },
    {
      "cell_type": "code",
      "metadata": {
        "id": "bcvUL-XsSq2Q"
      },
      "source": [
        "# df_shooting.groupby([df_shooting.index.Year, 'Description']).count().plot(kind = 'line')\n",
        "\n",
        "\n",
        "eight = df.loc[df['Description'] == '8']"
      ],
      "execution_count": null,
      "outputs": []
    },
    {
      "cell_type": "code",
      "metadata": {
        "id": "tQSeN8PtfZHq"
      },
      "source": [
        "plt.plot(df[\"Year\"], eight)"
      ],
      "execution_count": null,
      "outputs": []
    },
    {
      "cell_type": "code",
      "metadata": {
        "colab": {
          "base_uri": "https://localhost:8080/",
          "height": 644
        },
        "id": "dvBYU4vsfx9P",
        "outputId": "5ba1e941-beb9-435e-fb35-00f6e81876e9"
      },
      "source": [
        "plt.scatter(df[\"Year\"], df_shooting, color ='sky blue',\n",
        "        width = 0.4)\n",
        "plt.xlabel(\"x-label\")\n",
        "plt.ylabel(\"y-label\")\n",
        "plt.title(\"graph title\")\n",
        "plt.show()"
      ],
      "execution_count": null,
      "outputs": [
        {
          "output_type": "error",
          "ename": "ValueError",
          "evalue": "ignored",
          "traceback": [
            "\u001b[0;31m---------------------------------------------------------------------------\u001b[0m",
            "\u001b[0;31mValueError\u001b[0m                                Traceback (most recent call last)",
            "\u001b[0;32m<ipython-input-69-5c65be7fdc45>\u001b[0m in \u001b[0;36m<module>\u001b[0;34m()\u001b[0m\n\u001b[1;32m      1\u001b[0m plt.scatter(df[\"Year\"], df_shooting, color ='sky blue',\n\u001b[0;32m----> 2\u001b[0;31m         width = 0.4)\n\u001b[0m\u001b[1;32m      3\u001b[0m \u001b[0mplt\u001b[0m\u001b[0;34m.\u001b[0m\u001b[0mxlabel\u001b[0m\u001b[0;34m(\u001b[0m\u001b[0;34m\"x-label\"\u001b[0m\u001b[0;34m)\u001b[0m\u001b[0;34m\u001b[0m\u001b[0;34m\u001b[0m\u001b[0m\n\u001b[1;32m      4\u001b[0m \u001b[0mplt\u001b[0m\u001b[0;34m.\u001b[0m\u001b[0mylabel\u001b[0m\u001b[0;34m(\u001b[0m\u001b[0;34m\"y-label\"\u001b[0m\u001b[0;34m)\u001b[0m\u001b[0;34m\u001b[0m\u001b[0;34m\u001b[0m\u001b[0m\n\u001b[1;32m      5\u001b[0m \u001b[0mplt\u001b[0m\u001b[0;34m.\u001b[0m\u001b[0mtitle\u001b[0m\u001b[0;34m(\u001b[0m\u001b[0;34m\"graph title\"\u001b[0m\u001b[0;34m)\u001b[0m\u001b[0;34m\u001b[0m\u001b[0;34m\u001b[0m\u001b[0m\n",
            "\u001b[0;32m/usr/local/lib/python3.7/dist-packages/matplotlib/pyplot.py\u001b[0m in \u001b[0;36mscatter\u001b[0;34m(x, y, s, c, marker, cmap, norm, vmin, vmax, alpha, linewidths, verts, edgecolors, plotnonfinite, data, **kwargs)\u001b[0m\n\u001b[1;32m   2814\u001b[0m         \u001b[0mverts\u001b[0m\u001b[0;34m=\u001b[0m\u001b[0mverts\u001b[0m\u001b[0;34m,\u001b[0m \u001b[0medgecolors\u001b[0m\u001b[0;34m=\u001b[0m\u001b[0medgecolors\u001b[0m\u001b[0;34m,\u001b[0m\u001b[0;34m\u001b[0m\u001b[0;34m\u001b[0m\u001b[0m\n\u001b[1;32m   2815\u001b[0m         plotnonfinite=plotnonfinite, **({\"data\": data} if data is not\n\u001b[0;32m-> 2816\u001b[0;31m         None else {}), **kwargs)\n\u001b[0m\u001b[1;32m   2817\u001b[0m     \u001b[0msci\u001b[0m\u001b[0;34m(\u001b[0m\u001b[0m__ret\u001b[0m\u001b[0;34m)\u001b[0m\u001b[0;34m\u001b[0m\u001b[0;34m\u001b[0m\u001b[0m\n\u001b[1;32m   2818\u001b[0m     \u001b[0;32mreturn\u001b[0m \u001b[0m__ret\u001b[0m\u001b[0;34m\u001b[0m\u001b[0;34m\u001b[0m\u001b[0m\n",
            "\u001b[0;32m/usr/local/lib/python3.7/dist-packages/matplotlib/__init__.py\u001b[0m in \u001b[0;36minner\u001b[0;34m(ax, data, *args, **kwargs)\u001b[0m\n\u001b[1;32m   1563\u001b[0m     \u001b[0;32mdef\u001b[0m \u001b[0minner\u001b[0m\u001b[0;34m(\u001b[0m\u001b[0max\u001b[0m\u001b[0;34m,\u001b[0m \u001b[0;34m*\u001b[0m\u001b[0margs\u001b[0m\u001b[0;34m,\u001b[0m \u001b[0mdata\u001b[0m\u001b[0;34m=\u001b[0m\u001b[0;32mNone\u001b[0m\u001b[0;34m,\u001b[0m \u001b[0;34m**\u001b[0m\u001b[0mkwargs\u001b[0m\u001b[0;34m)\u001b[0m\u001b[0;34m:\u001b[0m\u001b[0;34m\u001b[0m\u001b[0;34m\u001b[0m\u001b[0m\n\u001b[1;32m   1564\u001b[0m         \u001b[0;32mif\u001b[0m \u001b[0mdata\u001b[0m \u001b[0;32mis\u001b[0m \u001b[0;32mNone\u001b[0m\u001b[0;34m:\u001b[0m\u001b[0;34m\u001b[0m\u001b[0;34m\u001b[0m\u001b[0m\n\u001b[0;32m-> 1565\u001b[0;31m             \u001b[0;32mreturn\u001b[0m \u001b[0mfunc\u001b[0m\u001b[0;34m(\u001b[0m\u001b[0max\u001b[0m\u001b[0;34m,\u001b[0m \u001b[0;34m*\u001b[0m\u001b[0mmap\u001b[0m\u001b[0;34m(\u001b[0m\u001b[0msanitize_sequence\u001b[0m\u001b[0;34m,\u001b[0m \u001b[0margs\u001b[0m\u001b[0;34m)\u001b[0m\u001b[0;34m,\u001b[0m \u001b[0;34m**\u001b[0m\u001b[0mkwargs\u001b[0m\u001b[0;34m)\u001b[0m\u001b[0;34m\u001b[0m\u001b[0;34m\u001b[0m\u001b[0m\n\u001b[0m\u001b[1;32m   1566\u001b[0m \u001b[0;34m\u001b[0m\u001b[0m\n\u001b[1;32m   1567\u001b[0m         \u001b[0mbound\u001b[0m \u001b[0;34m=\u001b[0m \u001b[0mnew_sig\u001b[0m\u001b[0;34m.\u001b[0m\u001b[0mbind\u001b[0m\u001b[0;34m(\u001b[0m\u001b[0max\u001b[0m\u001b[0;34m,\u001b[0m \u001b[0;34m*\u001b[0m\u001b[0margs\u001b[0m\u001b[0;34m,\u001b[0m \u001b[0;34m**\u001b[0m\u001b[0mkwargs\u001b[0m\u001b[0;34m)\u001b[0m\u001b[0;34m\u001b[0m\u001b[0;34m\u001b[0m\u001b[0m\n",
            "\u001b[0;32m/usr/local/lib/python3.7/dist-packages/matplotlib/cbook/deprecation.py\u001b[0m in \u001b[0;36mwrapper\u001b[0;34m(*args, **kwargs)\u001b[0m\n\u001b[1;32m    356\u001b[0m                 \u001b[0;34mf\"%(removal)s.  If any parameter follows {name!r}, they \"\u001b[0m\u001b[0;34m\u001b[0m\u001b[0;34m\u001b[0m\u001b[0m\n\u001b[1;32m    357\u001b[0m                 f\"should be pass as keyword, not positionally.\")\n\u001b[0;32m--> 358\u001b[0;31m         \u001b[0;32mreturn\u001b[0m \u001b[0mfunc\u001b[0m\u001b[0;34m(\u001b[0m\u001b[0;34m*\u001b[0m\u001b[0margs\u001b[0m\u001b[0;34m,\u001b[0m \u001b[0;34m**\u001b[0m\u001b[0mkwargs\u001b[0m\u001b[0;34m)\u001b[0m\u001b[0;34m\u001b[0m\u001b[0;34m\u001b[0m\u001b[0m\n\u001b[0m\u001b[1;32m    359\u001b[0m \u001b[0;34m\u001b[0m\u001b[0m\n\u001b[1;32m    360\u001b[0m     \u001b[0;32mreturn\u001b[0m \u001b[0mwrapper\u001b[0m\u001b[0;34m\u001b[0m\u001b[0;34m\u001b[0m\u001b[0m\n",
            "\u001b[0;32m/usr/local/lib/python3.7/dist-packages/matplotlib/axes/_axes.py\u001b[0m in \u001b[0;36mscatter\u001b[0;34m(self, x, y, s, c, marker, cmap, norm, vmin, vmax, alpha, linewidths, verts, edgecolors, plotnonfinite, **kwargs)\u001b[0m\n\u001b[1;32m   4389\u001b[0m         \u001b[0my\u001b[0m \u001b[0;34m=\u001b[0m \u001b[0mnp\u001b[0m\u001b[0;34m.\u001b[0m\u001b[0mma\u001b[0m\u001b[0;34m.\u001b[0m\u001b[0mravel\u001b[0m\u001b[0;34m(\u001b[0m\u001b[0my\u001b[0m\u001b[0;34m)\u001b[0m\u001b[0;34m\u001b[0m\u001b[0;34m\u001b[0m\u001b[0m\n\u001b[1;32m   4390\u001b[0m         \u001b[0;32mif\u001b[0m \u001b[0mx\u001b[0m\u001b[0;34m.\u001b[0m\u001b[0msize\u001b[0m \u001b[0;34m!=\u001b[0m \u001b[0my\u001b[0m\u001b[0;34m.\u001b[0m\u001b[0msize\u001b[0m\u001b[0;34m:\u001b[0m\u001b[0;34m\u001b[0m\u001b[0;34m\u001b[0m\u001b[0m\n\u001b[0;32m-> 4391\u001b[0;31m             \u001b[0;32mraise\u001b[0m \u001b[0mValueError\u001b[0m\u001b[0;34m(\u001b[0m\u001b[0;34m\"x and y must be the same size\"\u001b[0m\u001b[0;34m)\u001b[0m\u001b[0;34m\u001b[0m\u001b[0;34m\u001b[0m\u001b[0m\n\u001b[0m\u001b[1;32m   4392\u001b[0m \u001b[0;34m\u001b[0m\u001b[0m\n\u001b[1;32m   4393\u001b[0m         \u001b[0;32mif\u001b[0m \u001b[0ms\u001b[0m \u001b[0;32mis\u001b[0m \u001b[0;32mNone\u001b[0m\u001b[0;34m:\u001b[0m\u001b[0;34m\u001b[0m\u001b[0;34m\u001b[0m\u001b[0m\n",
            "\u001b[0;31mValueError\u001b[0m: x and y must be the same size"
          ]
        },
        {
          "output_type": "display_data",
          "data": {
            "image/png": "[encoded data removed]",
            "text/plain": [
              "<Figure size 432x288 with 1 Axes>"
            ]
          },
          "metadata": {
            "tags": [],
            "needs_background": "light"
          }
        }
      ]
    }
  ]
}